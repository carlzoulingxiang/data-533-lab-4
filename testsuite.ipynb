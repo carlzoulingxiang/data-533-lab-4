{
 "cells": [
  {
   "cell_type": "markdown",
   "id": "739dff6d-2921-49e0-8e2d-15c7989b6fe0",
   "metadata": {
    "pycharm": {
     "name": "#%% md\n"
    }
   },
   "source": [
    "# Data 533 Lab3 Test Suite"
   ]
  },
  {
   "cell_type": "code",
   "execution_count": 1,
   "id": "673b8db1",
   "metadata": {
    "collapsed": false,
    "jupyter": {
     "outputs_hidden": false
    },
    "pycharm": {
     "name": "#%%\n"
    }
   },
   "outputs": [],
   "source": [
    "import unittest\n",
    "\n",
    "\n",
    "from unittestkit.testchararraytools import TestCharArrayTools\n",
    "from unittestkit.testchararraysearchtool import TestCharArraySearchTool\n",
    "from unittestkit.testchararraysorttool import TestCharArraySortTool\n",
    "\n",
    "from NumUnittest.testnumarraytools import TestNumArrayTools\n",
    "from NumUnittest.testnumarraysearchtool import TestNumArraySearchTool\n",
    "from NumUnittest.testnumarraysorttool import TestNumArraySortTool"
   ]
  },
  {
   "cell_type": "code",
   "execution_count": 2,
   "id": "65a86eb9-1b99-42af-b3f3-17fe65680f9d",
   "metadata": {},
   "outputs": [],
   "source": [
    "def my_suite():\n",
    "    suite = unittest.TestSuite()\n",
    "    results = unittest.TestResult()\n",
    "    suite.addTest(unittest.makeSuite(TestCharArrayTools))\n",
    "    suite.addTest(unittest.makeSuite(TestCharArraySearchTool))\n",
    "    suite.addTest(unittest.makeSuite(TestCharArraySortTool))\n",
    "    suite.addTest(unittest.makeSuite(TestNumArrayTools))\n",
    "    suite.addTest(unittest.makeSuite(TestNumArraySearchTool))\n",
    "    suite.addTest(unittest.makeSuite(TestNumArraySortTool))\n",
    "    \n",
    "    runner = unittest.TextTestRunner()\n",
    "    print(runner.run(suite))"
   ]
  },
  {
   "cell_type": "code",
   "execution_count": 3,
   "id": "e36cf1de-ced1-4bb5-8387-c5ecd7358113",
   "metadata": {},
   "outputs": [
    {
     "name": "stderr",
     "output_type": "stream",
     "text": [
      ".................."
     ]
    },
    {
     "name": "stdout",
     "output_type": "stream",
     "text": [
      "######## Start Testing The CharArrayTools Module ########\n",
      "Set Up: Initializing Object...\n",
      "Tear Down: Deleting Object...\n",
      "Set Up: Initializing Object...\n",
      "Tear Down: Deleting Object...\n",
      "Set Up: Initializing Object...\n",
      "Tear Down: Deleting Object...\n",
      "######## Finish Testing The CharArrayTools Module ########\n",
      "######## Start Testing The CharArraySearchTool Module ########\n",
      "Set Up: Initializing Object...\n",
      "Tear Down: Deleting Object...\n",
      "Set Up: Initializing Object...\n",
      "Tear Down: Deleting Object...\n",
      "Set Up: Initializing Object...\n",
      "Tear Down: Deleting Object...\n",
      "######## Finish Testing The CharArraySearchTool Module ########\n",
      "######## Start Testing The CharArraySortTool Module ########\n",
      "Set Up: Initializing Object...\n",
      "Tear Down: Deleting Object...\n",
      "Set Up: Initializing Object...\n",
      "Tear Down: Deleting Object...\n",
      "Set Up: Initializing Object...\n",
      "Tear Down: Deleting Object...\n",
      "######## Finish Testing The CharArraySortTool Module ########\n",
      "setup testNumArraySearchTool\n",
      "Please append a number\n",
      "Please append a number\n",
      "teardown testNumArraySearchTool\n",
      "setup testNumArraySearchTool\n",
      "teardown testNumArraySearchTool\n",
      "setup testnumarraysorttool\n",
      "teardown testnumarraysorttool\n",
      "<unittest.runner.TextTestResult run=18 errors=0 failures=0>\n"
     ]
    },
    {
     "name": "stderr",
     "output_type": "stream",
     "text": [
      "\n",
      "----------------------------------------------------------------------\n",
      "Ran 18 tests in 0.018s\n",
      "\n",
      "OK\n"
     ]
    }
   ],
   "source": [
    "my_suite()"
   ]
  },
  {
   "cell_type": "code",
   "execution_count": null,
   "id": "fee767a0-c779-4982-be16-5dccd83bf5ff",
   "metadata": {},
   "outputs": [],
   "source": []
  }
 ],
 "metadata": {
  "kernelspec": {
   "display_name": "Python 3",
   "language": "python",
   "name": "python3"
  },
  "language_info": {
   "codemirror_mode": {
    "name": "ipython",
    "version": 3
   },
   "file_extension": ".py",
   "mimetype": "text/x-python",
   "name": "python",
   "nbconvert_exporter": "python",
   "pygments_lexer": "ipython3",
   "version": "3.9.5"
  }
 },
 "nbformat": 4,
 "nbformat_minor": 5
}
